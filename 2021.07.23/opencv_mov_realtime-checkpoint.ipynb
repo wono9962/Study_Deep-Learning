{
 "cells": [
  {
   "cell_type": "markdown",
   "id": "f318ad66-850c-4c32-8470-b84c0afb3d3c",
   "metadata": {},
   "source": [
    "https://jinho-study.tistory.com/229?category=926937"
   ]
  },
  {
   "cell_type": "code",
   "execution_count": 2,
   "id": "65cca037-c9fd-48be-8d5c-9b51b7ca66cc",
   "metadata": {},
   "outputs": [],
   "source": [
    "import cv2"
   ]
  },
  {
   "cell_type": "code",
   "execution_count": 3,
   "id": "d6ca1aa8-1f06-4cd9-9a2d-d3fcb46d0794",
   "metadata": {},
   "outputs": [
    {
     "name": "stdout",
     "output_type": "stream",
     "text": [
      "Number of faces detected: 0\n",
      "Number of faces detected: 1\n",
      "Number of faces detected: 1\n",
      "Number of faces detected: 1\n",
      "Number of faces detected: 1\n",
      "Number of faces detected: 1\n",
      "Number of faces detected: 1\n",
      "Number of faces detected: 1\n",
      "Number of faces detected: 1\n",
      "Number of faces detected: 1\n",
      "Number of faces detected: 1\n",
      "Number of faces detected: 1\n",
      "Number of faces detected: 1\n"
     ]
    }
   ],
   "source": [
    "# 실시간 얼굴 인식 & 박스\n",
    "import numpy as np\n",
    "import cv2\n",
    "\n",
    "xml = 'haarcascade_frontalface_default.xml'\n",
    "face_cascade = cv2.CascadeClassifier(xml)\n",
    "\n",
    "cap = cv2.VideoCapture(0) # 노트북 웹캠을 카메라로 사용\n",
    "cap.set(3,640) # 너비\n",
    "cap.set(4,480) # 높이\n",
    "\n",
    "while(True):\n",
    "    ret, frame = cap.read()\n",
    "    frame = cv2.flip(frame, 1) # 좌우 대칭\n",
    "    gray = cv2.cvtColor(frame, cv2.COLOR_BGR2GRAY)\n",
    "\n",
    "    faces = face_cascade.detectMultiScale(gray,1.05, 5)\n",
    "    print(\"Number of faces detected: \" + str(len(faces)))\n",
    "\n",
    "    if len(faces):\n",
    "        for (x,y,w,h) in faces:\n",
    "            cv2.rectangle(frame,(x,y),(x+w,y+h),(255,0,0),2)\n",
    "        \n",
    "    cv2.imshow('result', frame)\n",
    "    \n",
    "    k = cv2.waitKey(30) & 0xff\n",
    "    if k == 27: # Esc 키를 누르면 종료\n",
    "        break\n",
    "\n",
    "cap.release()\n",
    "cv2.destroyAllWindows()"
   ]
  }
 ],
 "metadata": {
  "kernelspec": {
   "display_name": "Python 3",
   "language": "python",
   "name": "python3"
  },
  "language_info": {
   "codemirror_mode": {
    "name": "ipython",
    "version": 3
   },
   "file_extension": ".py",
   "mimetype": "text/x-python",
   "name": "python",
   "nbconvert_exporter": "python",
   "pygments_lexer": "ipython3",
   "version": "3.8.8"
  }
 },
 "nbformat": 4,
 "nbformat_minor": 5
}
